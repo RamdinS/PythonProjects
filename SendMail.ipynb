{
 "cells": [
  {
   "cell_type": "code",
   "execution_count": null,
   "id": "61113c49",
   "metadata": {},
   "outputs": [],
   "source": [
    "import os\n",
    "import random\n",
    "import smtplib\n",
    "\n",
    "\n",
    "def automatic_email():\n",
    "    user = input(\"Enter Your Name >>: \")\n",
    "    email = input(\"Enter Your Email >>: \")\n",
    "    message = (f\"Dear {user}, Automated email via Python\")\n",
    "    s = smtplib.SMTP('smtp.gmail.com', 587)\n",
    "    s.starttls()\n",
    "    s.login(\"Your email id\", \"App pwd\")\n",
    "    s.sendmail('&&&&&&&&&&&', email, message)\n",
    "    print(\"Email Sent!\")\n",
    "    \n",
    "automatic_email()"
   ]
  },
  {
   "cell_type": "code",
   "execution_count": null,
   "id": "91259851",
   "metadata": {},
   "outputs": [],
   "source": []
  }
 ],
 "metadata": {
  "kernelspec": {
   "display_name": "Python 3",
   "language": "python",
   "name": "python3"
  },
  "language_info": {
   "codemirror_mode": {
    "name": "ipython",
    "version": 3
   },
   "file_extension": ".py",
   "mimetype": "text/x-python",
   "name": "python",
   "nbconvert_exporter": "python",
   "pygments_lexer": "ipython3",
   "version": "3.8.8"
  }
 },
 "nbformat": 4,
 "nbformat_minor": 5
}
