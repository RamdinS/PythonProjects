{
 "cells": [
  {
   "cell_type": "code",
   "execution_count": null,
   "id": "ecec1296",
   "metadata": {},
   "outputs": [],
   "source": [
    "\"\"\"Password Authentication using Python\"\"\""
   ]
  },
  {
   "cell_type": "code",
   "execution_count": 2,
   "id": "04d810e9",
   "metadata": {},
   "outputs": [
    {
     "name": "stdout",
     "output_type": "stream",
     "text": [
      "Enter Your Username : saurabh\n",
      "Enter Your Password : ········\n",
      "Verified\n"
     ]
    }
   ],
   "source": [
    "import getpass\n",
    "database = {\"saurabh.ramdin\": \"123456\", \"ramdin.saurabh\": \"654321\"}\n",
    "username = input(\"Enter Your Username : \")\n",
    "password = getpass.getpass(\"Enter Your Password : \")\n",
    "for i in database.keys():\n",
    "    if username == i:\n",
    "        while password != database.get(i):\n",
    "            password = getpass.getpass(\"Enter Your Password Again : \")\n",
    "        break\n",
    "print(\"Verified\")"
   ]
  },
  {
   "cell_type": "code",
   "execution_count": null,
   "id": "5cec65a2",
   "metadata": {},
   "outputs": [],
   "source": []
  }
 ],
 "metadata": {
  "kernelspec": {
   "display_name": "Python 3",
   "language": "python",
   "name": "python3"
  },
  "language_info": {
   "codemirror_mode": {
    "name": "ipython",
    "version": 3
   },
   "file_extension": ".py",
   "mimetype": "text/x-python",
   "name": "python",
   "nbconvert_exporter": "python",
   "pygments_lexer": "ipython3",
   "version": "3.8.8"
  }
 },
 "nbformat": 4,
 "nbformat_minor": 5
}
